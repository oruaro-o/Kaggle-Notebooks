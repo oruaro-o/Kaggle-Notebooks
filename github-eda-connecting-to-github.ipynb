{
 "cells": [
  {
   "cell_type": "code",
   "execution_count": 1,
   "id": "e1f799ad",
   "metadata": {
    "_cell_guid": "b1076dfc-b9ad-4769-8c92-a6c4dae69d19",
    "_uuid": "8f2839f25d086af736a60e9eeb907d3b93b6e0e5",
    "execution": {
     "iopub.execute_input": "2022-01-02T09:32:51.638899Z",
     "iopub.status.busy": "2022-01-02T09:32:51.638136Z",
     "iopub.status.idle": "2022-01-02T09:32:52.678149Z",
     "shell.execute_reply": "2022-01-02T09:32:52.679194Z",
     "shell.execute_reply.started": "2022-01-02T09:17:47.897011Z"
    },
    "papermill": {
     "duration": 1.06103,
     "end_time": "2022-01-02T09:32:52.679612",
     "exception": false,
     "start_time": "2022-01-02T09:32:51.618582",
     "status": "completed"
    },
    "tags": []
   },
   "outputs": [
    {
     "name": "stdout",
     "output_type": "stream",
     "text": [
      "/kaggle/input/github-programming-languages-data/issues.csv\n",
      "/kaggle/input/github-programming-languages-data/prs.csv\n",
      "/kaggle/input/github-programming-languages-data/repos.csv\n"
     ]
    }
   ],
   "source": [
    "#Import the relevant libraries for the exploratory data analysis (EDA)\n",
    "\n",
    "import numpy as np # linear algebra\n",
    "import pandas as pd # data processing, CSV file I/O (e.g. pd.read_csv)\n",
    "import matplotlib.pyplot as plt\n",
    "import seaborn as sns\n",
    "\n",
    "# Input data files are available in the read-only \"../input/\" directory\n",
    "# Viewing all files within the input directory for exploration\n",
    "\n",
    "import os\n",
    "for dirname, _, filenames in os.walk('/kaggle/input'):\n",
    "    for filename in filenames:\n",
    "        print(os.path.join(dirname, filename))\n"
   ]
  },
  {
   "cell_type": "code",
   "execution_count": 2,
   "id": "ea8aae18",
   "metadata": {
    "execution": {
     "iopub.execute_input": "2022-01-02T09:32:52.700065Z",
     "iopub.status.busy": "2022-01-02T09:32:52.699402Z",
     "iopub.status.idle": "2022-01-02T09:32:52.730445Z",
     "shell.execute_reply": "2022-01-02T09:32:52.731050Z",
     "shell.execute_reply.started": "2022-01-02T09:19:55.654260Z"
    },
    "papermill": {
     "duration": 0.043869,
     "end_time": "2022-01-02T09:32:52.731257",
     "exception": false,
     "start_time": "2022-01-02T09:32:52.687388",
     "status": "completed"
    },
    "tags": []
   },
   "outputs": [
    {
     "data": {
      "text/html": [
       "<div>\n",
       "<style scoped>\n",
       "    .dataframe tbody tr th:only-of-type {\n",
       "        vertical-align: middle;\n",
       "    }\n",
       "\n",
       "    .dataframe tbody tr th {\n",
       "        vertical-align: top;\n",
       "    }\n",
       "\n",
       "    .dataframe thead th {\n",
       "        text-align: right;\n",
       "    }\n",
       "</style>\n",
       "<table border=\"1\" class=\"dataframe\">\n",
       "  <thead>\n",
       "    <tr style=\"text-align: right;\">\n",
       "      <th></th>\n",
       "      <th>name</th>\n",
       "      <th>year</th>\n",
       "      <th>quarter</th>\n",
       "      <th>count</th>\n",
       "    </tr>\n",
       "  </thead>\n",
       "  <tbody>\n",
       "    <tr>\n",
       "      <th>0</th>\n",
       "      <td>Ruby</td>\n",
       "      <td>2011</td>\n",
       "      <td>3</td>\n",
       "      <td>965</td>\n",
       "    </tr>\n",
       "    <tr>\n",
       "      <th>1</th>\n",
       "      <td>JavaScript</td>\n",
       "      <td>2011</td>\n",
       "      <td>3</td>\n",
       "      <td>694</td>\n",
       "    </tr>\n",
       "    <tr>\n",
       "      <th>2</th>\n",
       "      <td>Python</td>\n",
       "      <td>2011</td>\n",
       "      <td>3</td>\n",
       "      <td>619</td>\n",
       "    </tr>\n",
       "    <tr>\n",
       "      <th>3</th>\n",
       "      <td>PHP</td>\n",
       "      <td>2011</td>\n",
       "      <td>3</td>\n",
       "      <td>560</td>\n",
       "    </tr>\n",
       "    <tr>\n",
       "      <th>4</th>\n",
       "      <td>Java</td>\n",
       "      <td>2011</td>\n",
       "      <td>3</td>\n",
       "      <td>420</td>\n",
       "    </tr>\n",
       "  </tbody>\n",
       "</table>\n",
       "</div>"
      ],
      "text/plain": [
       "         name  year  quarter  count\n",
       "0        Ruby  2011        3    965\n",
       "1  JavaScript  2011        3    694\n",
       "2      Python  2011        3    619\n",
       "3         PHP  2011        3    560\n",
       "4        Java  2011        3    420"
      ]
     },
     "execution_count": 2,
     "metadata": {},
     "output_type": "execute_result"
    }
   ],
   "source": [
    "#Opening up and exploring the issues file with a pandas DataFrame\n",
    "\n",
    "IssuesDf = pd.read_csv(\"/kaggle/input/github-programming-languages-data/issues.csv\")\n",
    "\n",
    "#Viewing the first 5 entries of the dataset and confirming the upload went as expected\n",
    "IssuesDf.head()"
   ]
  },
  {
   "cell_type": "code",
   "execution_count": 3,
   "id": "58b8733a",
   "metadata": {
    "execution": {
     "iopub.execute_input": "2022-01-02T09:32:52.749898Z",
     "iopub.status.busy": "2022-01-02T09:32:52.748825Z",
     "iopub.status.idle": "2022-01-02T09:32:52.755194Z",
     "shell.execute_reply": "2022-01-02T09:32:52.754614Z",
     "shell.execute_reply.started": "2022-01-02T09:20:28.331950Z"
    },
    "papermill": {
     "duration": 0.016838,
     "end_time": "2022-01-02T09:32:52.755347",
     "exception": false,
     "start_time": "2022-01-02T09:32:52.738509",
     "status": "completed"
    },
    "tags": []
   },
   "outputs": [
    {
     "data": {
      "text/plain": [
       "13500"
      ]
     },
     "execution_count": 3,
     "metadata": {},
     "output_type": "execute_result"
    }
   ],
   "source": [
    "#Viewing the attributes of the DataFrame\n",
    "IssuesDf.size #Size of IssuesDf"
   ]
  },
  {
   "cell_type": "code",
   "execution_count": 4,
   "id": "aa00b6c5",
   "metadata": {
    "execution": {
     "iopub.execute_input": "2022-01-02T09:32:52.773738Z",
     "iopub.status.busy": "2022-01-02T09:32:52.772754Z",
     "iopub.status.idle": "2022-01-02T09:32:52.782733Z",
     "shell.execute_reply": "2022-01-02T09:32:52.783354Z",
     "shell.execute_reply.started": "2022-01-02T09:20:47.272437Z"
    },
    "papermill": {
     "duration": 0.020971,
     "end_time": "2022-01-02T09:32:52.783539",
     "exception": false,
     "start_time": "2022-01-02T09:32:52.762568",
     "status": "completed"
    },
    "tags": []
   },
   "outputs": [
    {
     "data": {
      "text/plain": [
       "<bound method DataFrame.info of             name  year  quarter  count\n",
       "0           Ruby  2011        3    965\n",
       "1     JavaScript  2011        3    694\n",
       "2         Python  2011        3    619\n",
       "3            PHP  2011        3    560\n",
       "4           Java  2011        3    420\n",
       "...          ...   ...      ...    ...\n",
       "3370          Go  2022        1    204\n",
       "3371         PHP  2022        1    173\n",
       "3372  TypeScript  2022        1    169\n",
       "3373           C  2022        1    151\n",
       "3374          C#  2022        1    148\n",
       "\n",
       "[3375 rows x 4 columns]>"
      ]
     },
     "execution_count": 4,
     "metadata": {},
     "output_type": "execute_result"
    }
   ],
   "source": [
    "IssuesDf.info #Information on the columns"
   ]
  },
  {
   "cell_type": "markdown",
   "id": "04d4faa9",
   "metadata": {
    "papermill": {
     "duration": 0.007279,
     "end_time": "2022-01-02T09:32:52.798279",
     "exception": false,
     "start_time": "2022-01-02T09:32:52.791000",
     "status": "completed"
    },
    "tags": []
   },
   "source": [
    "Issues have been captured by number of issues per programming language every quarter from Q3 2011 - Q1 2022. On its own this can give us an idea of the robustness of certain langagues - I would expect less issues from enterprise production langagues and more from prototyping langauges with a large community.\n",
    "\n",
    "Let's dive in and view all issues per language."
   ]
  },
  {
   "cell_type": "code",
   "execution_count": 5,
   "id": "94a2920d",
   "metadata": {
    "execution": {
     "iopub.execute_input": "2022-01-02T09:32:52.817730Z",
     "iopub.status.busy": "2022-01-02T09:32:52.816675Z",
     "iopub.status.idle": "2022-01-02T09:32:52.844126Z",
     "shell.execute_reply": "2022-01-02T09:32:52.843555Z",
     "shell.execute_reply.started": "2022-01-02T09:31:19.281245Z"
    },
    "papermill": {
     "duration": 0.038551,
     "end_time": "2022-01-02T09:32:52.844335",
     "exception": false,
     "start_time": "2022-01-02T09:32:52.805784",
     "status": "completed"
    },
    "tags": []
   },
   "outputs": [
    {
     "data": {
      "text/html": [
       "<div>\n",
       "<style scoped>\n",
       "    .dataframe tbody tr th:only-of-type {\n",
       "        vertical-align: middle;\n",
       "    }\n",
       "\n",
       "    .dataframe tbody tr th {\n",
       "        vertical-align: top;\n",
       "    }\n",
       "\n",
       "    .dataframe thead th {\n",
       "        text-align: right;\n",
       "    }\n",
       "</style>\n",
       "<table border=\"1\" class=\"dataframe\">\n",
       "  <thead>\n",
       "    <tr style=\"text-align: right;\">\n",
       "      <th></th>\n",
       "      <th>count</th>\n",
       "    </tr>\n",
       "    <tr>\n",
       "      <th>name</th>\n",
       "      <th></th>\n",
       "    </tr>\n",
       "  </thead>\n",
       "  <tbody>\n",
       "    <tr>\n",
       "      <th>JavaScript</th>\n",
       "      <td>6500226</td>\n",
       "    </tr>\n",
       "    <tr>\n",
       "      <th>Python</th>\n",
       "      <td>4192481</td>\n",
       "    </tr>\n",
       "    <tr>\n",
       "      <th>Java</th>\n",
       "      <td>3536070</td>\n",
       "    </tr>\n",
       "    <tr>\n",
       "      <th>PHP</th>\n",
       "      <td>2240585</td>\n",
       "    </tr>\n",
       "    <tr>\n",
       "      <th>C++</th>\n",
       "      <td>1941004</td>\n",
       "    </tr>\n",
       "    <tr>\n",
       "      <th>TypeScript</th>\n",
       "      <td>1741593</td>\n",
       "    </tr>\n",
       "    <tr>\n",
       "      <th>Go</th>\n",
       "      <td>1645358</td>\n",
       "    </tr>\n",
       "    <tr>\n",
       "      <th>C#</th>\n",
       "      <td>1407859</td>\n",
       "    </tr>\n",
       "    <tr>\n",
       "      <th>Ruby</th>\n",
       "      <td>1292627</td>\n",
       "    </tr>\n",
       "    <tr>\n",
       "      <th>C</th>\n",
       "      <td>1003056</td>\n",
       "    </tr>\n",
       "  </tbody>\n",
       "</table>\n",
       "</div>"
      ],
      "text/plain": [
       "              count\n",
       "name               \n",
       "JavaScript  6500226\n",
       "Python      4192481\n",
       "Java        3536070\n",
       "PHP         2240585\n",
       "C++         1941004\n",
       "TypeScript  1741593\n",
       "Go          1645358\n",
       "C#          1407859\n",
       "Ruby        1292627\n",
       "C           1003056"
      ]
     },
     "execution_count": 5,
     "metadata": {},
     "output_type": "execute_result"
    }
   ],
   "source": [
    "All_Issues = IssuesDf.groupby(\"name\").sum(\"count\")\n",
    "Sorted_Issues = All_Issues.drop([\"year\", \"quarter\"], axis=1).sort_values(\"count\", ascending=False)\n",
    "\n",
    "Sorted_Issues.head(10)"
   ]
  }
 ],
 "metadata": {
  "kernelspec": {
   "display_name": "Python 3",
   "language": "python",
   "name": "python3"
  },
  "language_info": {
   "codemirror_mode": {
    "name": "ipython",
    "version": 3
   },
   "file_extension": ".py",
   "mimetype": "text/x-python",
   "name": "python",
   "nbconvert_exporter": "python",
   "pygments_lexer": "ipython3",
   "version": "3.7.12"
  },
  "papermill": {
   "default_parameters": {},
   "duration": 13.063019,
   "end_time": "2022-01-02T09:32:53.562997",
   "environment_variables": {},
   "exception": null,
   "input_path": "__notebook__.ipynb",
   "output_path": "__notebook__.ipynb",
   "parameters": {},
   "start_time": "2022-01-02T09:32:40.499978",
   "version": "2.3.3"
  }
 },
 "nbformat": 4,
 "nbformat_minor": 5
}
