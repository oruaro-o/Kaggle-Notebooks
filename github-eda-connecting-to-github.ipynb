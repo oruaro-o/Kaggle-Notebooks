{
 "cells": [
  {
   "cell_type": "code",
   "execution_count": 1,
   "id": "4ca2e3c7",
   "metadata": {
    "_cell_guid": "b1076dfc-b9ad-4769-8c92-a6c4dae69d19",
    "_uuid": "8f2839f25d086af736a60e9eeb907d3b93b6e0e5",
    "execution": {
     "iopub.execute_input": "2022-01-05T21:11:55.355439Z",
     "iopub.status.busy": "2022-01-05T21:11:55.354185Z",
     "iopub.status.idle": "2022-01-05T21:11:56.573157Z",
     "shell.execute_reply": "2022-01-05T21:11:56.570652Z",
     "shell.execute_reply.started": "2022-01-05T20:57:32.401499Z"
    },
    "papermill": {
     "duration": 1.233964,
     "end_time": "2022-01-05T21:11:56.573489",
     "exception": false,
     "start_time": "2022-01-05T21:11:55.339525",
     "status": "completed"
    },
    "tags": []
   },
   "outputs": [
    {
     "name": "stdout",
     "output_type": "stream",
     "text": [
      "/kaggle/input/github-programming-languages-data/issues.csv\n",
      "/kaggle/input/github-programming-languages-data/prs.csv\n",
      "/kaggle/input/github-programming-languages-data/repos.csv\n"
     ]
    }
   ],
   "source": [
    "#Import the relevant libraries for the exploratory data analysis (EDA)\n",
    "\n",
    "import numpy as np # linear algebra\n",
    "import pandas as pd # data processing, CSV file I/O (e.g. pd.read_csv)\n",
    "import matplotlib.pyplot as plt\n",
    "import seaborn as sns\n",
    "\n",
    "# Input data files are available in the read-only \"../input/\" directory\n",
    "# Viewing all files within the input directory for exploration\n",
    "\n",
    "import os\n",
    "for dirname, _, filenames in os.walk('/kaggle/input'):\n",
    "    for filename in filenames:\n",
    "        print(os.path.join(dirname, filename))\n"
   ]
  },
  {
   "cell_type": "code",
   "execution_count": 2,
   "id": "19ee8baa",
   "metadata": {
    "execution": {
     "iopub.execute_input": "2022-01-05T21:11:56.599686Z",
     "iopub.status.busy": "2022-01-05T21:11:56.598835Z",
     "iopub.status.idle": "2022-01-05T21:11:56.633470Z",
     "shell.execute_reply": "2022-01-05T21:11:56.632794Z",
     "shell.execute_reply.started": "2022-01-05T20:57:32.409811Z"
    },
    "papermill": {
     "duration": 0.049168,
     "end_time": "2022-01-05T21:11:56.633652",
     "exception": false,
     "start_time": "2022-01-05T21:11:56.584484",
     "status": "completed"
    },
    "tags": []
   },
   "outputs": [
    {
     "data": {
      "text/html": [
       "<div>\n",
       "<style scoped>\n",
       "    .dataframe tbody tr th:only-of-type {\n",
       "        vertical-align: middle;\n",
       "    }\n",
       "\n",
       "    .dataframe tbody tr th {\n",
       "        vertical-align: top;\n",
       "    }\n",
       "\n",
       "    .dataframe thead th {\n",
       "        text-align: right;\n",
       "    }\n",
       "</style>\n",
       "<table border=\"1\" class=\"dataframe\">\n",
       "  <thead>\n",
       "    <tr style=\"text-align: right;\">\n",
       "      <th></th>\n",
       "      <th>name</th>\n",
       "      <th>year</th>\n",
       "      <th>quarter</th>\n",
       "      <th>count</th>\n",
       "    </tr>\n",
       "  </thead>\n",
       "  <tbody>\n",
       "    <tr>\n",
       "      <th>0</th>\n",
       "      <td>Ruby</td>\n",
       "      <td>2011</td>\n",
       "      <td>3</td>\n",
       "      <td>965</td>\n",
       "    </tr>\n",
       "    <tr>\n",
       "      <th>1</th>\n",
       "      <td>JavaScript</td>\n",
       "      <td>2011</td>\n",
       "      <td>3</td>\n",
       "      <td>694</td>\n",
       "    </tr>\n",
       "    <tr>\n",
       "      <th>2</th>\n",
       "      <td>Python</td>\n",
       "      <td>2011</td>\n",
       "      <td>3</td>\n",
       "      <td>619</td>\n",
       "    </tr>\n",
       "    <tr>\n",
       "      <th>3</th>\n",
       "      <td>PHP</td>\n",
       "      <td>2011</td>\n",
       "      <td>3</td>\n",
       "      <td>560</td>\n",
       "    </tr>\n",
       "    <tr>\n",
       "      <th>4</th>\n",
       "      <td>Java</td>\n",
       "      <td>2011</td>\n",
       "      <td>3</td>\n",
       "      <td>420</td>\n",
       "    </tr>\n",
       "  </tbody>\n",
       "</table>\n",
       "</div>"
      ],
      "text/plain": [
       "         name  year  quarter  count\n",
       "0        Ruby  2011        3    965\n",
       "1  JavaScript  2011        3    694\n",
       "2      Python  2011        3    619\n",
       "3         PHP  2011        3    560\n",
       "4        Java  2011        3    420"
      ]
     },
     "execution_count": 2,
     "metadata": {},
     "output_type": "execute_result"
    }
   ],
   "source": [
    "#Opening up and exploring the issues file with a pandas DataFrame\n",
    "\n",
    "IssuesDf = pd.read_csv(\"/kaggle/input/github-programming-languages-data/issues.csv\")\n",
    "\n",
    "#Viewing the first 5 entries of the dataset and confirming the upload went as expected\n",
    "IssuesDf.head()"
   ]
  },
  {
   "cell_type": "code",
   "execution_count": 3,
   "id": "2d99cefa",
   "metadata": {
    "execution": {
     "iopub.execute_input": "2022-01-05T21:11:56.657028Z",
     "iopub.status.busy": "2022-01-05T21:11:56.655963Z",
     "iopub.status.idle": "2022-01-05T21:11:56.662427Z",
     "shell.execute_reply": "2022-01-05T21:11:56.663089Z",
     "shell.execute_reply.started": "2022-01-05T20:57:32.449301Z"
    },
    "papermill": {
     "duration": 0.02025,
     "end_time": "2022-01-05T21:11:56.663321",
     "exception": false,
     "start_time": "2022-01-05T21:11:56.643071",
     "status": "completed"
    },
    "tags": []
   },
   "outputs": [
    {
     "data": {
      "text/plain": [
       "13500"
      ]
     },
     "execution_count": 3,
     "metadata": {},
     "output_type": "execute_result"
    }
   ],
   "source": [
    "#Viewing the attributes of the DataFrame\n",
    "IssuesDf.size #Size of IssuesDf"
   ]
  },
  {
   "cell_type": "code",
   "execution_count": 4,
   "id": "5c35f706",
   "metadata": {
    "execution": {
     "iopub.execute_input": "2022-01-05T21:11:56.687639Z",
     "iopub.status.busy": "2022-01-05T21:11:56.686396Z",
     "iopub.status.idle": "2022-01-05T21:11:56.698373Z",
     "shell.execute_reply": "2022-01-05T21:11:56.697633Z",
     "shell.execute_reply.started": "2022-01-05T20:57:32.455417Z"
    },
    "papermill": {
     "duration": 0.025398,
     "end_time": "2022-01-05T21:11:56.698540",
     "exception": false,
     "start_time": "2022-01-05T21:11:56.673142",
     "status": "completed"
    },
    "tags": []
   },
   "outputs": [
    {
     "data": {
      "text/plain": [
       "<bound method DataFrame.info of             name  year  quarter  count\n",
       "0           Ruby  2011        3    965\n",
       "1     JavaScript  2011        3    694\n",
       "2         Python  2011        3    619\n",
       "3            PHP  2011        3    560\n",
       "4           Java  2011        3    420\n",
       "...          ...   ...      ...    ...\n",
       "3370          Go  2022        1    204\n",
       "3371         PHP  2022        1    173\n",
       "3372  TypeScript  2022        1    169\n",
       "3373           C  2022        1    151\n",
       "3374          C#  2022        1    148\n",
       "\n",
       "[3375 rows x 4 columns]>"
      ]
     },
     "execution_count": 4,
     "metadata": {},
     "output_type": "execute_result"
    }
   ],
   "source": [
    "IssuesDf.info #Information on the columns"
   ]
  },
  {
   "cell_type": "markdown",
   "id": "3c0f2b26",
   "metadata": {
    "papermill": {
     "duration": 0.00992,
     "end_time": "2022-01-05T21:11:56.718658",
     "exception": false,
     "start_time": "2022-01-05T21:11:56.708738",
     "status": "completed"
    },
    "tags": []
   },
   "source": [
    "Issues have been captured by number of issues per programming language every quarter from Q3 2011 - Q1 2022. On its own this can give us an idea of the robustness of certain langagues - I would expect less issues from enterprise production langagues and more from prototyping langauges with a large community.\n",
    "\n",
    "Let's dive in and view all issues per language."
   ]
  },
  {
   "cell_type": "code",
   "execution_count": 5,
   "id": "63425172",
   "metadata": {
    "execution": {
     "iopub.execute_input": "2022-01-05T21:11:56.750315Z",
     "iopub.status.busy": "2022-01-05T21:11:56.749483Z",
     "iopub.status.idle": "2022-01-05T21:11:56.772115Z",
     "shell.execute_reply": "2022-01-05T21:11:56.771495Z",
     "shell.execute_reply.started": "2022-01-05T20:57:32.471550Z"
    },
    "papermill": {
     "duration": 0.042942,
     "end_time": "2022-01-05T21:11:56.772281",
     "exception": false,
     "start_time": "2022-01-05T21:11:56.729339",
     "status": "completed"
    },
    "tags": []
   },
   "outputs": [
    {
     "data": {
      "text/html": [
       "<div>\n",
       "<style scoped>\n",
       "    .dataframe tbody tr th:only-of-type {\n",
       "        vertical-align: middle;\n",
       "    }\n",
       "\n",
       "    .dataframe tbody tr th {\n",
       "        vertical-align: top;\n",
       "    }\n",
       "\n",
       "    .dataframe thead th {\n",
       "        text-align: right;\n",
       "    }\n",
       "</style>\n",
       "<table border=\"1\" class=\"dataframe\">\n",
       "  <thead>\n",
       "    <tr style=\"text-align: right;\">\n",
       "      <th></th>\n",
       "      <th>count</th>\n",
       "    </tr>\n",
       "    <tr>\n",
       "      <th>name</th>\n",
       "      <th></th>\n",
       "    </tr>\n",
       "  </thead>\n",
       "  <tbody>\n",
       "    <tr>\n",
       "      <th>JavaScript</th>\n",
       "      <td>6500226</td>\n",
       "    </tr>\n",
       "    <tr>\n",
       "      <th>Python</th>\n",
       "      <td>4192481</td>\n",
       "    </tr>\n",
       "    <tr>\n",
       "      <th>Java</th>\n",
       "      <td>3536070</td>\n",
       "    </tr>\n",
       "    <tr>\n",
       "      <th>PHP</th>\n",
       "      <td>2240585</td>\n",
       "    </tr>\n",
       "    <tr>\n",
       "      <th>C++</th>\n",
       "      <td>1941004</td>\n",
       "    </tr>\n",
       "    <tr>\n",
       "      <th>TypeScript</th>\n",
       "      <td>1741593</td>\n",
       "    </tr>\n",
       "    <tr>\n",
       "      <th>Go</th>\n",
       "      <td>1645358</td>\n",
       "    </tr>\n",
       "    <tr>\n",
       "      <th>C#</th>\n",
       "      <td>1407859</td>\n",
       "    </tr>\n",
       "    <tr>\n",
       "      <th>Ruby</th>\n",
       "      <td>1292627</td>\n",
       "    </tr>\n",
       "    <tr>\n",
       "      <th>C</th>\n",
       "      <td>1003056</td>\n",
       "    </tr>\n",
       "  </tbody>\n",
       "</table>\n",
       "</div>"
      ],
      "text/plain": [
       "              count\n",
       "name               \n",
       "JavaScript  6500226\n",
       "Python      4192481\n",
       "Java        3536070\n",
       "PHP         2240585\n",
       "C++         1941004\n",
       "TypeScript  1741593\n",
       "Go          1645358\n",
       "C#          1407859\n",
       "Ruby        1292627\n",
       "C           1003056"
      ]
     },
     "execution_count": 5,
     "metadata": {},
     "output_type": "execute_result"
    }
   ],
   "source": [
    "All_Issues = IssuesDf.groupby(\"name\").sum(\"count\")\n",
    "Sorted_Issues = All_Issues.drop([\"year\", \"quarter\"], axis=1).sort_values(\"count\", ascending=False)\n",
    "\n",
    "Sorted_Issues.head(10)"
   ]
  },
  {
   "cell_type": "markdown",
   "id": "db11a0da",
   "metadata": {
    "papermill": {
     "duration": 0.010174,
     "end_time": "2022-01-05T21:11:56.793067",
     "exception": false,
     "start_time": "2022-01-05T21:11:56.782893",
     "status": "completed"
    },
    "tags": []
   },
   "source": [
    "Using JavaScript as a case study to view how issues have progressed over time"
   ]
  },
  {
   "cell_type": "code",
   "execution_count": 6,
   "id": "ac4a69d3",
   "metadata": {
    "execution": {
     "iopub.execute_input": "2022-01-05T21:11:56.832923Z",
     "iopub.status.busy": "2022-01-05T21:11:56.832112Z",
     "iopub.status.idle": "2022-01-05T21:11:56.841412Z",
     "shell.execute_reply": "2022-01-05T21:11:56.842076Z",
     "shell.execute_reply.started": "2022-01-05T21:01:15.224079Z"
    },
    "papermill": {
     "duration": 0.038531,
     "end_time": "2022-01-05T21:11:56.842283",
     "exception": false,
     "start_time": "2022-01-05T21:11:56.803752",
     "status": "completed"
    },
    "tags": []
   },
   "outputs": [
    {
     "data": {
      "text/html": [
       "<div>\n",
       "<style scoped>\n",
       "    .dataframe tbody tr th:only-of-type {\n",
       "        vertical-align: middle;\n",
       "    }\n",
       "\n",
       "    .dataframe tbody tr th {\n",
       "        vertical-align: top;\n",
       "    }\n",
       "\n",
       "    .dataframe thead th {\n",
       "        text-align: right;\n",
       "    }\n",
       "</style>\n",
       "<table border=\"1\" class=\"dataframe\">\n",
       "  <thead>\n",
       "    <tr style=\"text-align: right;\">\n",
       "      <th></th>\n",
       "      <th>quarter</th>\n",
       "      <th>count</th>\n",
       "    </tr>\n",
       "    <tr>\n",
       "      <th>year</th>\n",
       "      <th></th>\n",
       "      <th></th>\n",
       "    </tr>\n",
       "  </thead>\n",
       "  <tbody>\n",
       "    <tr>\n",
       "      <th>2011</th>\n",
       "      <td>7</td>\n",
       "      <td>4697</td>\n",
       "    </tr>\n",
       "    <tr>\n",
       "      <th>2012</th>\n",
       "      <td>10</td>\n",
       "      <td>102818</td>\n",
       "    </tr>\n",
       "    <tr>\n",
       "      <th>2013</th>\n",
       "      <td>10</td>\n",
       "      <td>287989</td>\n",
       "    </tr>\n",
       "    <tr>\n",
       "      <th>2014</th>\n",
       "      <td>10</td>\n",
       "      <td>596429</td>\n",
       "    </tr>\n",
       "    <tr>\n",
       "      <th>2015</th>\n",
       "      <td>10</td>\n",
       "      <td>1036613</td>\n",
       "    </tr>\n",
       "  </tbody>\n",
       "</table>\n",
       "</div>"
      ],
      "text/plain": [
       "      quarter    count\n",
       "year                  \n",
       "2011        7     4697\n",
       "2012       10   102818\n",
       "2013       10   287989\n",
       "2014       10   596429\n",
       "2015       10  1036613"
      ]
     },
     "execution_count": 6,
     "metadata": {},
     "output_type": "execute_result"
    }
   ],
   "source": [
    "Javascript_Issues = IssuesDf[IssuesDf[\"name\"] == \"JavaScript\"].groupby(\"year\").sum(\"count\")\n",
    "Python_Issues = IssuesDf[IssuesDf[\"name\"] == \"Python\"].groupby(\"year\").sum(\"count\")\n",
    "Java_Issues = IssuesDf[IssuesDf[\"name\"] == \"Java\"].groupby(\"year\").sum(\"count\")\n",
    "Javascript_Issues.head()"
   ]
  },
  {
   "cell_type": "code",
   "execution_count": 7,
   "id": "5c50b7a9",
   "metadata": {
    "execution": {
     "iopub.execute_input": "2022-01-05T21:11:56.869070Z",
     "iopub.status.busy": "2022-01-05T21:11:56.868275Z",
     "iopub.status.idle": "2022-01-05T21:11:57.137463Z",
     "shell.execute_reply": "2022-01-05T21:11:57.138058Z",
     "shell.execute_reply.started": "2022-01-05T21:01:21.641573Z"
    },
    "papermill": {
     "duration": 0.285085,
     "end_time": "2022-01-05T21:11:57.138278",
     "exception": false,
     "start_time": "2022-01-05T21:11:56.853193",
     "status": "completed"
    },
    "tags": []
   },
   "outputs": [
    {
     "data": {
      "text/plain": [
       "[<matplotlib.lines.Line2D at 0x7f8bc54b7310>]"
      ]
     },
     "execution_count": 7,
     "metadata": {},
     "output_type": "execute_result"
    },
    {
     "data": {
      "image/png": "[encoded data removed]",
      "text/plain": [
       "<Figure size 432x288 with 1 Axes>"
      ]
     },
     "metadata": {
      "needs_background": "light"
     },
     "output_type": "display_data"
    }
   ],
   "source": [
    "plt.plot(Javascript_Issues[\"count\"])\n",
    "plt.plot(Python_Issues[\"count\"])\n",
    "plt.plot(Java_Issues[\"count\"])"
   ]
  }
 ],
 "metadata": {
  "kernelspec": {
   "display_name": "Python 3",
   "language": "python",
   "name": "python3"
  },
  "language_info": {
   "codemirror_mode": {
    "name": "ipython",
    "version": 3
   },
   "file_extension": ".py",
   "mimetype": "text/x-python",
   "name": "python",
   "nbconvert_exporter": "python",
   "pygments_lexer": "ipython3",
   "version": "3.7.12"
  },
  "papermill": {
   "default_parameters": {},
   "duration": 13.824396,
   "end_time": "2022-01-05T21:11:58.164649",
   "environment_variables": {},
   "exception": null,
   "input_path": "__notebook__.ipynb",
   "output_path": "__notebook__.ipynb",
   "parameters": {},
   "start_time": "2022-01-05T21:11:44.340253",
   "version": "2.3.3"
  }
 },
 "nbformat": 4,
 "nbformat_minor": 5
}
