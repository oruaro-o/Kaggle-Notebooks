{
 "cells": [
  {
   "cell_type": "code",
   "execution_count": 1,
   "id": "425c5ce3",
   "metadata": {
    "_cell_guid": "b1076dfc-b9ad-4769-8c92-a6c4dae69d19",
    "_uuid": "8f2839f25d086af736a60e9eeb907d3b93b6e0e5",
    "execution": {
     "iopub.execute_input": "2022-01-04T22:12:36.990693Z",
     "iopub.status.busy": "2022-01-04T22:12:36.989797Z",
     "iopub.status.idle": "2022-01-04T22:12:38.007524Z",
     "shell.execute_reply": "2022-01-04T22:12:38.006500Z",
     "shell.execute_reply.started": "2022-01-04T21:47:30.894202Z"
    },
    "papermill": {
     "duration": 1.039181,
     "end_time": "2022-01-04T22:12:38.007751",
     "exception": false,
     "start_time": "2022-01-04T22:12:36.968570",
     "status": "completed"
    },
    "tags": []
   },
   "outputs": [
    {
     "name": "stdout",
     "output_type": "stream",
     "text": [
      "/kaggle/input/github-programming-languages-data/issues.csv\n",
      "/kaggle/input/github-programming-languages-data/prs.csv\n",
      "/kaggle/input/github-programming-languages-data/repos.csv\n"
     ]
    }
   ],
   "source": [
    "#Import the relevant libraries for the exploratory data analysis (EDA)\n",
    "\n",
    "import numpy as np # linear algebra\n",
    "import pandas as pd # data processing, CSV file I/O (e.g. pd.read_csv)\n",
    "import matplotlib.pyplot as plt\n",
    "import seaborn as sns\n",
    "\n",
    "# Input data files are available in the read-only \"../input/\" directory\n",
    "# Viewing all files within the input directory for exploration\n",
    "\n",
    "import os\n",
    "for dirname, _, filenames in os.walk('/kaggle/input'):\n",
    "    for filename in filenames:\n",
    "        print(os.path.join(dirname, filename))\n"
   ]
  },
  {
   "cell_type": "code",
   "execution_count": 2,
   "id": "c1e099b2",
   "metadata": {
    "execution": {
     "iopub.execute_input": "2022-01-04T22:12:38.027791Z",
     "iopub.status.busy": "2022-01-04T22:12:38.027131Z",
     "iopub.status.idle": "2022-01-04T22:12:38.059053Z",
     "shell.execute_reply": "2022-01-04T22:12:38.058574Z",
     "shell.execute_reply.started": "2022-01-04T21:47:32.028814Z"
    },
    "papermill": {
     "duration": 0.043382,
     "end_time": "2022-01-04T22:12:38.059194",
     "exception": false,
     "start_time": "2022-01-04T22:12:38.015812",
     "status": "completed"
    },
    "tags": []
   },
   "outputs": [
    {
     "data": {
      "text/html": [
       "<div>\n",
       "<style scoped>\n",
       "    .dataframe tbody tr th:only-of-type {\n",
       "        vertical-align: middle;\n",
       "    }\n",
       "\n",
       "    .dataframe tbody tr th {\n",
       "        vertical-align: top;\n",
       "    }\n",
       "\n",
       "    .dataframe thead th {\n",
       "        text-align: right;\n",
       "    }\n",
       "</style>\n",
       "<table border=\"1\" class=\"dataframe\">\n",
       "  <thead>\n",
       "    <tr style=\"text-align: right;\">\n",
       "      <th></th>\n",
       "      <th>name</th>\n",
       "      <th>year</th>\n",
       "      <th>quarter</th>\n",
       "      <th>count</th>\n",
       "    </tr>\n",
       "  </thead>\n",
       "  <tbody>\n",
       "    <tr>\n",
       "      <th>0</th>\n",
       "      <td>Ruby</td>\n",
       "      <td>2011</td>\n",
       "      <td>3</td>\n",
       "      <td>965</td>\n",
       "    </tr>\n",
       "    <tr>\n",
       "      <th>1</th>\n",
       "      <td>JavaScript</td>\n",
       "      <td>2011</td>\n",
       "      <td>3</td>\n",
       "      <td>694</td>\n",
       "    </tr>\n",
       "    <tr>\n",
       "      <th>2</th>\n",
       "      <td>Python</td>\n",
       "      <td>2011</td>\n",
       "      <td>3</td>\n",
       "      <td>619</td>\n",
       "    </tr>\n",
       "    <tr>\n",
       "      <th>3</th>\n",
       "      <td>PHP</td>\n",
       "      <td>2011</td>\n",
       "      <td>3</td>\n",
       "      <td>560</td>\n",
       "    </tr>\n",
       "    <tr>\n",
       "      <th>4</th>\n",
       "      <td>Java</td>\n",
       "      <td>2011</td>\n",
       "      <td>3</td>\n",
       "      <td>420</td>\n",
       "    </tr>\n",
       "  </tbody>\n",
       "</table>\n",
       "</div>"
      ],
      "text/plain": [
       "         name  year  quarter  count\n",
       "0        Ruby  2011        3    965\n",
       "1  JavaScript  2011        3    694\n",
       "2      Python  2011        3    619\n",
       "3         PHP  2011        3    560\n",
       "4        Java  2011        3    420"
      ]
     },
     "execution_count": 2,
     "metadata": {},
     "output_type": "execute_result"
    }
   ],
   "source": [
    "#Opening up and exploring the issues file with a pandas DataFrame\n",
    "\n",
    "IssuesDf = pd.read_csv(\"/kaggle/input/github-programming-languages-data/issues.csv\")\n",
    "\n",
    "#Viewing the first 5 entries of the dataset and confirming the upload went as expected\n",
    "IssuesDf.head()"
   ]
  },
  {
   "cell_type": "code",
   "execution_count": 3,
   "id": "85655ba6",
   "metadata": {
    "execution": {
     "iopub.execute_input": "2022-01-04T22:12:38.078352Z",
     "iopub.status.busy": "2022-01-04T22:12:38.077494Z",
     "iopub.status.idle": "2022-01-04T22:12:38.081638Z",
     "shell.execute_reply": "2022-01-04T22:12:38.081201Z",
     "shell.execute_reply.started": "2022-01-04T21:47:32.067234Z"
    },
    "papermill": {
     "duration": 0.015687,
     "end_time": "2022-01-04T22:12:38.081767",
     "exception": false,
     "start_time": "2022-01-04T22:12:38.066080",
     "status": "completed"
    },
    "tags": []
   },
   "outputs": [
    {
     "data": {
      "text/plain": [
       "13500"
      ]
     },
     "execution_count": 3,
     "metadata": {},
     "output_type": "execute_result"
    }
   ],
   "source": [
    "#Viewing the attributes of the DataFrame\n",
    "IssuesDf.size #Size of IssuesDf"
   ]
  },
  {
   "cell_type": "code",
   "execution_count": 4,
   "id": "83663cc4",
   "metadata": {
    "execution": {
     "iopub.execute_input": "2022-01-04T22:12:38.104697Z",
     "iopub.status.busy": "2022-01-04T22:12:38.103853Z",
     "iopub.status.idle": "2022-01-04T22:12:38.107469Z",
     "shell.execute_reply": "2022-01-04T22:12:38.107861Z",
     "shell.execute_reply.started": "2022-01-04T21:47:32.076832Z"
    },
    "papermill": {
     "duration": 0.019311,
     "end_time": "2022-01-04T22:12:38.108037",
     "exception": false,
     "start_time": "2022-01-04T22:12:38.088726",
     "status": "completed"
    },
    "tags": []
   },
   "outputs": [
    {
     "data": {
      "text/plain": [
       "<bound method DataFrame.info of             name  year  quarter  count\n",
       "0           Ruby  2011        3    965\n",
       "1     JavaScript  2011        3    694\n",
       "2         Python  2011        3    619\n",
       "3            PHP  2011        3    560\n",
       "4           Java  2011        3    420\n",
       "...          ...   ...      ...    ...\n",
       "3370          Go  2022        1    204\n",
       "3371         PHP  2022        1    173\n",
       "3372  TypeScript  2022        1    169\n",
       "3373           C  2022        1    151\n",
       "3374          C#  2022        1    148\n",
       "\n",
       "[3375 rows x 4 columns]>"
      ]
     },
     "execution_count": 4,
     "metadata": {},
     "output_type": "execute_result"
    }
   ],
   "source": [
    "IssuesDf.info #Information on the columns"
   ]
  },
  {
   "cell_type": "markdown",
   "id": "2d793553",
   "metadata": {
    "papermill": {
     "duration": 0.006916,
     "end_time": "2022-01-04T22:12:38.122309",
     "exception": false,
     "start_time": "2022-01-04T22:12:38.115393",
     "status": "completed"
    },
    "tags": []
   },
   "source": [
    "Issues have been captured by number of issues per programming language every quarter from Q3 2011 - Q1 2022. On its own this can give us an idea of the robustness of certain langagues - I would expect less issues from enterprise production langagues and more from prototyping langauges with a large community.\n",
    "\n",
    "Let's dive in and view all issues per language."
   ]
  },
  {
   "cell_type": "code",
   "execution_count": 5,
   "id": "11465c07",
   "metadata": {
    "execution": {
     "iopub.execute_input": "2022-01-04T22:12:38.153201Z",
     "iopub.status.busy": "2022-01-04T22:12:38.152467Z",
     "iopub.status.idle": "2022-01-04T22:12:38.163323Z",
     "shell.execute_reply": "2022-01-04T22:12:38.162811Z",
     "shell.execute_reply.started": "2022-01-04T21:47:32.094099Z"
    },
    "papermill": {
     "duration": 0.033991,
     "end_time": "2022-01-04T22:12:38.163466",
     "exception": false,
     "start_time": "2022-01-04T22:12:38.129475",
     "status": "completed"
    },
    "tags": []
   },
   "outputs": [
    {
     "data": {
      "text/html": [
       "<div>\n",
       "<style scoped>\n",
       "    .dataframe tbody tr th:only-of-type {\n",
       "        vertical-align: middle;\n",
       "    }\n",
       "\n",
       "    .dataframe tbody tr th {\n",
       "        vertical-align: top;\n",
       "    }\n",
       "\n",
       "    .dataframe thead th {\n",
       "        text-align: right;\n",
       "    }\n",
       "</style>\n",
       "<table border=\"1\" class=\"dataframe\">\n",
       "  <thead>\n",
       "    <tr style=\"text-align: right;\">\n",
       "      <th></th>\n",
       "      <th>count</th>\n",
       "    </tr>\n",
       "    <tr>\n",
       "      <th>name</th>\n",
       "      <th></th>\n",
       "    </tr>\n",
       "  </thead>\n",
       "  <tbody>\n",
       "    <tr>\n",
       "      <th>JavaScript</th>\n",
       "      <td>6500226</td>\n",
       "    </tr>\n",
       "    <tr>\n",
       "      <th>Python</th>\n",
       "      <td>4192481</td>\n",
       "    </tr>\n",
       "    <tr>\n",
       "      <th>Java</th>\n",
       "      <td>3536070</td>\n",
       "    </tr>\n",
       "    <tr>\n",
       "      <th>PHP</th>\n",
       "      <td>2240585</td>\n",
       "    </tr>\n",
       "    <tr>\n",
       "      <th>C++</th>\n",
       "      <td>1941004</td>\n",
       "    </tr>\n",
       "    <tr>\n",
       "      <th>TypeScript</th>\n",
       "      <td>1741593</td>\n",
       "    </tr>\n",
       "    <tr>\n",
       "      <th>Go</th>\n",
       "      <td>1645358</td>\n",
       "    </tr>\n",
       "    <tr>\n",
       "      <th>C#</th>\n",
       "      <td>1407859</td>\n",
       "    </tr>\n",
       "    <tr>\n",
       "      <th>Ruby</th>\n",
       "      <td>1292627</td>\n",
       "    </tr>\n",
       "    <tr>\n",
       "      <th>C</th>\n",
       "      <td>1003056</td>\n",
       "    </tr>\n",
       "  </tbody>\n",
       "</table>\n",
       "</div>"
      ],
      "text/plain": [
       "              count\n",
       "name               \n",
       "JavaScript  6500226\n",
       "Python      4192481\n",
       "Java        3536070\n",
       "PHP         2240585\n",
       "C++         1941004\n",
       "TypeScript  1741593\n",
       "Go          1645358\n",
       "C#          1407859\n",
       "Ruby        1292627\n",
       "C           1003056"
      ]
     },
     "execution_count": 5,
     "metadata": {},
     "output_type": "execute_result"
    }
   ],
   "source": [
    "All_Issues = IssuesDf.groupby(\"name\").sum(\"count\")\n",
    "Sorted_Issues = All_Issues.drop([\"year\", \"quarter\"], axis=1).sort_values(\"count\", ascending=False)\n",
    "\n",
    "Sorted_Issues.head(10)"
   ]
  },
  {
   "cell_type": "markdown",
   "id": "29f0a831",
   "metadata": {
    "papermill": {
     "duration": 0.007102,
     "end_time": "2022-01-04T22:12:38.178123",
     "exception": false,
     "start_time": "2022-01-04T22:12:38.171021",
     "status": "completed"
    },
    "tags": []
   },
   "source": [
    "Using JavaScript as a case study to view how issues have progressed over time"
   ]
  },
  {
   "cell_type": "code",
   "execution_count": 6,
   "id": "2a2e9243",
   "metadata": {
    "execution": {
     "iopub.execute_input": "2022-01-04T22:12:38.206545Z",
     "iopub.status.busy": "2022-01-04T22:12:38.205701Z",
     "iopub.status.idle": "2022-01-04T22:12:38.212402Z",
     "shell.execute_reply": "2022-01-04T22:12:38.211864Z",
     "shell.execute_reply.started": "2022-01-04T22:10:52.079844Z"
    },
    "papermill": {
     "duration": 0.026994,
     "end_time": "2022-01-04T22:12:38.212538",
     "exception": false,
     "start_time": "2022-01-04T22:12:38.185544",
     "status": "completed"
    },
    "tags": []
   },
   "outputs": [
    {
     "data": {
      "text/html": [
       "<div>\n",
       "<style scoped>\n",
       "    .dataframe tbody tr th:only-of-type {\n",
       "        vertical-align: middle;\n",
       "    }\n",
       "\n",
       "    .dataframe tbody tr th {\n",
       "        vertical-align: top;\n",
       "    }\n",
       "\n",
       "    .dataframe thead th {\n",
       "        text-align: right;\n",
       "    }\n",
       "</style>\n",
       "<table border=\"1\" class=\"dataframe\">\n",
       "  <thead>\n",
       "    <tr style=\"text-align: right;\">\n",
       "      <th></th>\n",
       "      <th>quarter</th>\n",
       "      <th>count</th>\n",
       "    </tr>\n",
       "    <tr>\n",
       "      <th>year</th>\n",
       "      <th></th>\n",
       "      <th></th>\n",
       "    </tr>\n",
       "  </thead>\n",
       "  <tbody>\n",
       "    <tr>\n",
       "      <th>2011</th>\n",
       "      <td>7</td>\n",
       "      <td>4697</td>\n",
       "    </tr>\n",
       "    <tr>\n",
       "      <th>2012</th>\n",
       "      <td>10</td>\n",
       "      <td>102818</td>\n",
       "    </tr>\n",
       "    <tr>\n",
       "      <th>2013</th>\n",
       "      <td>10</td>\n",
       "      <td>287989</td>\n",
       "    </tr>\n",
       "    <tr>\n",
       "      <th>2014</th>\n",
       "      <td>10</td>\n",
       "      <td>596429</td>\n",
       "    </tr>\n",
       "    <tr>\n",
       "      <th>2015</th>\n",
       "      <td>10</td>\n",
       "      <td>1036613</td>\n",
       "    </tr>\n",
       "  </tbody>\n",
       "</table>\n",
       "</div>"
      ],
      "text/plain": [
       "      quarter    count\n",
       "year                  \n",
       "2011        7     4697\n",
       "2012       10   102818\n",
       "2013       10   287989\n",
       "2014       10   596429\n",
       "2015       10  1036613"
      ]
     },
     "execution_count": 6,
     "metadata": {},
     "output_type": "execute_result"
    }
   ],
   "source": [
    "Javascript_Issues = IssuesDf[IssuesDf[\"name\"] == \"JavaScript\"].groupby(\"year\").sum(\"count\")\n",
    "Javascript_Issues.head()"
   ]
  },
  {
   "cell_type": "code",
   "execution_count": 7,
   "id": "335b637b",
   "metadata": {
    "execution": {
     "iopub.execute_input": "2022-01-04T22:12:38.236831Z",
     "iopub.status.busy": "2022-01-04T22:12:38.235967Z",
     "iopub.status.idle": "2022-01-04T22:12:38.455968Z",
     "shell.execute_reply": "2022-01-04T22:12:38.456628Z",
     "shell.execute_reply.started": "2022-01-04T22:11:29.985084Z"
    },
    "papermill": {
     "duration": 0.236161,
     "end_time": "2022-01-04T22:12:38.456795",
     "exception": false,
     "start_time": "2022-01-04T22:12:38.220634",
     "status": "completed"
    },
    "tags": []
   },
   "outputs": [
    {
     "data": {
      "text/plain": [
       "[<matplotlib.lines.Line2D at 0x7f943f5b3310>]"
      ]
     },
     "execution_count": 7,
     "metadata": {},
     "output_type": "execute_result"
    },
    {
     "data": {
      "image/png": "[encoded data removed]",
      "text/plain": [
       "<Figure size 432x288 with 1 Axes>"
      ]
     },
     "metadata": {
      "needs_background": "light"
     },
     "output_type": "display_data"
    }
   ],
   "source": [
    "plt.plot(Javascript_Issues[\"count\"])"
   ]
  }
 ],
 "metadata": {
  "kernelspec": {
   "display_name": "Python 3",
   "language": "python",
   "name": "python3"
  },
  "language_info": {
   "codemirror_mode": {
    "name": "ipython",
    "version": 3
   },
   "file_extension": ".py",
   "mimetype": "text/x-python",
   "name": "python",
   "nbconvert_exporter": "python",
   "pygments_lexer": "ipython3",
   "version": "3.7.12"
  },
  "papermill": {
   "default_parameters": {},
   "duration": 10.792394,
   "end_time": "2022-01-04T22:12:39.075171",
   "environment_variables": {},
   "exception": null,
   "input_path": "__notebook__.ipynb",
   "output_path": "__notebook__.ipynb",
   "parameters": {},
   "start_time": "2022-01-04T22:12:28.282777",
   "version": "2.3.3"
  }
 },
 "nbformat": 4,
 "nbformat_minor": 5
}
